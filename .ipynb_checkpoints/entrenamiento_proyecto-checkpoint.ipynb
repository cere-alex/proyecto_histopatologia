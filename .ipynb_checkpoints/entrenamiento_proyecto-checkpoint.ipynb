{
 "cells": [
  {
   "cell_type": "markdown",
   "metadata": {},
   "source": [
    "# Identificacion de cancer metastasico en imagenes de exploraciones patologicas"
   ]
  },
  {
   "cell_type": "code",
   "execution_count": 24,
   "metadata": {},
   "outputs": [],
   "source": [
    "#!/usr/bin/env python3\n",
    "\n",
    "from tensorflow.keras.callbacks import ModelCheckpoint, ReduceLROnPlateau\n",
    "from tensorflow.keras.utils import plot_model, to_categorical\n",
    "from tensorflow.keras.optimizers import Adam\n",
    "from tensorflow.keras.layers import Activation\n",
    "from tensorflow.keras.layers import SeparableConv2D, Conv2D\n",
    "from tensorflow.keras.layers import BatchNormalization\n",
    "from tensorflow.keras.layers import Dropout, MaxPooling2D, Flatten, Dense\n",
    "from tensorflow.keras.models import Sequential\n",
    "from tensorflow.keras.preprocessing.image import ImageDataGenerator\n",
    "import sys\n",
    "import shutil\n",
    "from sklearn.model_selection import train_test_split\n",
    "import os\n",
    "import pandas as pd\n",
    "import matplotlib.pylab as plt\n",
    "import numpy as np\n",
    "import cv2\n",
    "import seaborn as sns\n",
    "from random import shuffle\n"
   ]
  },
  {
   "cell_type": "markdown",
   "metadata": {},
   "source": [
    "Se crea una funcion con el modelo a usar"
   ]
  },
  {
   "cell_type": "code",
   "execution_count": 26,
   "metadata": {},
   "outputs": [],
   "source": [
    "\n",
    "def Histopatologia(ancho, alto, profundidad, clases):\n",
    "    \"\"\"\n",
    "    Modelo de deteccion de Histopatologia.\n",
    "\n",
    "    Se crea un posible modelo aplicanndo 2 convoluciones y al final\n",
    "    se realizara un flat para el cubo formado linearize\n",
    "    Se usa un derivado de la red LeNet5\n",
    "    \n",
    "    en la cual se observa dos capas convolucionales \n",
    "    \n",
    "    \"\"\"\n",
    "    model = Sequential()\n",
    "    chanDim = -1\n",
    "    # CONV 1\n",
    "    model.add(Conv2D(32, (3, 3), padding=\"same\", activation='relu',\n",
    "                     input_shape=(alto, ancho, profundidad)))\n",
    "    model.add(MaxPooling2D(pool_size=(2, 2)))\n",
    "\n",
    "    # (CONV 2)\n",
    "    model.add(Conv2D(64, (3, 3), padding=\"same\", activation=\"relu\"))\n",
    "    model.add(MaxPooling2D(pool_size=(2, 2)))\n",
    "\n",
    "    # aplanado de la imagen\n",
    "    model.add(Flatten())\n",
    "    model.add(Dense(256, activation=\"relu\"))\n",
    "    model.add(BatchNormalization())\n",
    "\n",
    "    # softmax classifier\n",
    "    model.add(Dense(clases, activation=\"softmax\"))\n",
    "    model.summary()\n",
    "\n",
    "    # return the constructed network architecture\n",
    "    return model\n"
   ]
  },
  {
   "cell_type": "markdown",
   "metadata": {},
   "source": [
    "En este proyecto se usara el dataset de train_label para el entrenamiento y la validacion"
   ]
  },
  {
   "cell_type": "code",
   "execution_count": 27,
   "metadata": {},
   "outputs": [
    {
     "data": {
      "text/html": [
       "<div>\n",
       "<style scoped>\n",
       "    .dataframe tbody tr th:only-of-type {\n",
       "        vertical-align: middle;\n",
       "    }\n",
       "\n",
       "    .dataframe tbody tr th {\n",
       "        vertical-align: top;\n",
       "    }\n",
       "\n",
       "    .dataframe thead th {\n",
       "        text-align: right;\n",
       "    }\n",
       "</style>\n",
       "<table border=\"1\" class=\"dataframe\">\n",
       "  <thead>\n",
       "    <tr style=\"text-align: right;\">\n",
       "      <th></th>\n",
       "      <th>id</th>\n",
       "      <th>label</th>\n",
       "    </tr>\n",
       "  </thead>\n",
       "  <tbody>\n",
       "    <tr>\n",
       "      <th>0</th>\n",
       "      <td>f38a6374c348f90b587e046aac6079959adf3835</td>\n",
       "      <td>0</td>\n",
       "    </tr>\n",
       "    <tr>\n",
       "      <th>1</th>\n",
       "      <td>755db6279dae599ebb4d39a9123cce439965282d</td>\n",
       "      <td>0</td>\n",
       "    </tr>\n",
       "    <tr>\n",
       "      <th>2</th>\n",
       "      <td>bc3f0c64fb968ff4a8bd33af6971ecae77c75e08</td>\n",
       "      <td>0</td>\n",
       "    </tr>\n",
       "    <tr>\n",
       "      <th>3</th>\n",
       "      <td>068aba587a4950175d04c680d38943fd488d6a9d</td>\n",
       "      <td>0</td>\n",
       "    </tr>\n",
       "    <tr>\n",
       "      <th>4</th>\n",
       "      <td>acfe80838488fae3c89bd21ade75be5c34e66be7</td>\n",
       "      <td>0</td>\n",
       "    </tr>\n",
       "    <tr>\n",
       "      <th>...</th>\n",
       "      <td>...</td>\n",
       "      <td>...</td>\n",
       "    </tr>\n",
       "    <tr>\n",
       "      <th>220018</th>\n",
       "      <td>8a25b1632a1859d7b757e912ca673385b64e1b1d</td>\n",
       "      <td>1</td>\n",
       "    </tr>\n",
       "    <tr>\n",
       "      <th>220019</th>\n",
       "      <td>3e24dd48c3a419f4d669cac3cf71e777ba100541</td>\n",
       "      <td>1</td>\n",
       "    </tr>\n",
       "    <tr>\n",
       "      <th>220020</th>\n",
       "      <td>309210db7f424edbc22b2d13bf2fa27518b18f5c</td>\n",
       "      <td>1</td>\n",
       "    </tr>\n",
       "    <tr>\n",
       "      <th>220021</th>\n",
       "      <td>d4b854fe38b07fe2831ad73892b3cec877689576</td>\n",
       "      <td>1</td>\n",
       "    </tr>\n",
       "    <tr>\n",
       "      <th>220022</th>\n",
       "      <td>a81f84895ddcd522302ddf34be02eb1b3e5af1cb</td>\n",
       "      <td>1</td>\n",
       "    </tr>\n",
       "  </tbody>\n",
       "</table>\n",
       "<p>220023 rows × 2 columns</p>\n",
       "</div>"
      ],
      "text/plain": [
       "                                              id  label\n",
       "0       f38a6374c348f90b587e046aac6079959adf3835      0\n",
       "1       755db6279dae599ebb4d39a9123cce439965282d      0\n",
       "2       bc3f0c64fb968ff4a8bd33af6971ecae77c75e08      0\n",
       "3       068aba587a4950175d04c680d38943fd488d6a9d      0\n",
       "4       acfe80838488fae3c89bd21ade75be5c34e66be7      0\n",
       "...                                          ...    ...\n",
       "220018  8a25b1632a1859d7b757e912ca673385b64e1b1d      1\n",
       "220019  3e24dd48c3a419f4d669cac3cf71e777ba100541      1\n",
       "220020  309210db7f424edbc22b2d13bf2fa27518b18f5c      1\n",
       "220021  d4b854fe38b07fe2831ad73892b3cec877689576      1\n",
       "220022  a81f84895ddcd522302ddf34be02eb1b3e5af1cb      1\n",
       "\n",
       "[220023 rows x 2 columns]"
      ]
     },
     "execution_count": 27,
     "metadata": {},
     "output_type": "execute_result"
    }
   ],
   "source": [
    "\n",
    "df = pd.read_csv('./train_labels.csv')\n",
    "\"\"\"\n",
    "Leyendo los avances en Kaggle se observo que estas dos imagenes\n",
    "causan problemas en el entrenamiento\n",
    "\n",
    "\"\"\"\n",
    "df = df[df['id'] != 'dd6dfed324f9fcb6f93f46f32fc800f2ec196be2'] \n",
    "df = df[df['id'] != '9369c7278ec8bcc6c880d99194de09fc2bd4efbe']\n",
    "\n",
    "df_0 = df[df['label'] == 0]\n",
    "df_1 = df[df['label'] == 1]\n",
    "\n",
    "df_train = pd.concat([df_0, df_1], axis=0).reset_index(drop=True)\n",
    "\n",
    "df_train"
   ]
  },
  {
   "cell_type": "code",
   "execution_count": 28,
   "metadata": {},
   "outputs": [],
   "source": [
    "\"\"\"\n",
    "Las imagenes de train se dividiran en grupo de entranamiento y validadcion.\n",
    "\"\"\"\n",
    "df_train, df_valid = train_test_split(df_train,\n",
    "                                      train_size=0.9,\n",
    "                                      random_state=0)\n",
    "\n",
    "y_train = df_train['label'].values\n",
    "x_train_id = df_train['id'].values\n",
    "y_valid = df_valid['label'].values\n",
    "x_valid_id = df_valid['id'].values"
   ]
  },
  {
   "cell_type": "markdown",
   "metadata": {},
   "source": [
    "Se crea un archivo con extension '.npy' donde se guarda las matrices de las imagenes de entrenamiento y validacion"
   ]
  },
  {
   "cell_type": "code",
   "execution_count": 29,
   "metadata": {},
   "outputs": [
    {
     "name": "stdout",
     "output_type": "stream",
     "text": [
      "Se cargo el archivo X_train.npy\n",
      "Se cargo el archivo X_valid.npy\n"
     ]
    }
   ],
   "source": [
    "\"\"\"\n",
    "Se cortara la imagen central de 32x32 para el entranamiento\n",
    "\"\"\"\n",
    "# se guarda el archivo x_train y si existe lo carga\n",
    "\n",
    "if os.path.exists('X_train.npy'):\n",
    "    X_train = np.load('X_train.npy')\n",
    "    print(\"Se cargo el archivo X_train.npy\")\n",
    "else:\n",
    "    X_train = []\n",
    "    for j, i in enumerate(x_train_id):\n",
    "        sys.stdout.write(\"lectura de df_train: %d%%\\r\" % (j*100//len(x_train_id)))\n",
    "        sys.stdout.flush()\n",
    "        a = cv2.imread('./train/{}.tif'.format(i))  # se lee las imagenes\n",
    "        b = a[31:31+32, 31:31+32]  # se corta la imagen a 32 x 32 x 3\n",
    "        X_train.append(b)\n",
    "    print(\"lectura de df_train: %d%%   \\r\" % (j*100//len(x_train_id)+1))\n",
    "    X_train = np.array(X_train)\n",
    "    np.save('X_train.npy', X_train)\n",
    "\n",
    "# se guarda el archivo x_valid y si existe lo carga\n",
    "    \n",
    "if os.path.exists('X_valid.npy'):\n",
    "    X_valid = np.load('X_valid.npy')\n",
    "    print(\"Se cargo el archivo X_valid.npy\")\n",
    "else:\n",
    "    X_valid = []\n",
    "    for j, i in enumerate(x_valid_id):\n",
    "        sys.stdout.write(\"lectura de df_valid: %d%%\\r\" % (j*100//len(x_valid_id)))\n",
    "        sys.stdout.flush()\n",
    "        a = cv2.imread('./train/{}.tif'.format(i))  # se lee las imagenes\n",
    "        b = a[31:31+32, 31:31+32]  # se corta la imagen a 32 x 32 x 3\n",
    "        X_valid.append(b)\n",
    "    print(\"lectura de df_valid: %d%%   \\r\" % (j*100//len(x_valid_id)+1))\n",
    "    X_valid = np.array(X_valid)\n",
    "    np.save('X_valid.npy', X_valid)"
   ]
  },
  {
   "cell_type": "markdown",
   "metadata": {},
   "source": [
    "Como keras solo usa datos de  categoria se tiene q convertir los labels 0 , 1 a [1,0] , [0,1]"
   ]
  },
  {
   "cell_type": "code",
   "execution_count": 30,
   "metadata": {},
   "outputs": [
    {
     "data": {
      "text/plain": [
       "<keras_preprocessing.image.numpy_array_iterator.NumpyArrayIterator at 0x7f2f2b801ac0>"
      ]
     },
     "execution_count": 30,
     "metadata": {},
     "output_type": "execute_result"
    }
   ],
   "source": [
    "\"\"\"\n",
    "SE ajustara los datos, y_train a categorical\n",
    "\n",
    "\"\"\"\n",
    "\n",
    "y_train = to_categorical(y_train, num_classes=2)\n",
    "y_valid = to_categorical(y_valid, num_classes=2)\n",
    "\n",
    "\"\"\"\n",
    "como las imagens usan valores de 0 a 255,se normaliza con una funcion\n",
    "proveniente de keras llamada 'ImageDataGenerator'y se austa los datos \n",
    "de x_train y x_valid a esta \n",
    "\"\"\"\n",
    "datagen = ImageDataGenerator(rescale=1.0/255)\n",
    "datagen.fit(X_train)\n",
    "X_y_train = datagen.flow(X_train, y_train, batch_size=32)\n",
    "X_y_valid = datagen.flow(X_valid, y_valid, batch_size=32)\n",
    "X_y_train"
   ]
  },
  {
   "cell_type": "markdown",
   "metadata": {},
   "source": [
    "Se llama el modelo para compilarlo "
   ]
  },
  {
   "cell_type": "code",
   "execution_count": 31,
   "metadata": {},
   "outputs": [
    {
     "name": "stdout",
     "output_type": "stream",
     "text": [
      "Model: \"sequential_2\"\n",
      "_________________________________________________________________\n",
      "Layer (type)                 Output Shape              Param #   \n",
      "=================================================================\n",
      "conv2d_4 (Conv2D)            (None, 32, 32, 32)        896       \n",
      "_________________________________________________________________\n",
      "max_pooling2d_4 (MaxPooling2 (None, 16, 16, 32)        0         \n",
      "_________________________________________________________________\n",
      "conv2d_5 (Conv2D)            (None, 16, 16, 64)        18496     \n",
      "_________________________________________________________________\n",
      "max_pooling2d_5 (MaxPooling2 (None, 8, 8, 64)          0         \n",
      "_________________________________________________________________\n",
      "flatten_2 (Flatten)          (None, 4096)              0         \n",
      "_________________________________________________________________\n",
      "dense_4 (Dense)              (None, 256)               1048832   \n",
      "_________________________________________________________________\n",
      "batch_normalization_2 (Batch (None, 256)               1024      \n",
      "_________________________________________________________________\n",
      "dense_5 (Dense)              (None, 2)                 514       \n",
      "=================================================================\n",
      "Total params: 1,069,762\n",
      "Trainable params: 1,069,250\n",
      "Non-trainable params: 512\n",
      "_________________________________________________________________\n"
     ]
    },
    {
     "data": {
      "image/png": "[encoded data removed]",
      "text/plain": [
       "<IPython.core.display.Image object>"
      ]
     },
     "execution_count": 31,
     "metadata": {},
     "output_type": "execute_result"
    }
   ],
   "source": [
    "\n",
    "modelo = Histopatologia(32, 32, 3, 2)\n",
    "\n",
    "modelo.compile(optimizer=Adam(lr=0.0001), # el optimizador usado es el algoritmo Adam \n",
    "              loss='binary_crossentropy', # como son dos clases de salida se usa binary crossentropy \n",
    "              metrics=['accuracy']) # la metria a usar es la exactitud \n",
    "plot_model(modelo, to_file='model.png') # imprime como un lista de los algoritmos usados en el modelo \n",
    "\n"
   ]
  },
  {
   "cell_type": "markdown",
   "metadata": {},
   "source": [
    "En la siguiente parte se entrena el modelo junto con otros detalles, \n",
    "la funcion ModelCheckpoint guarda el mejor modelo de cada epoca "
   ]
  },
  {
   "cell_type": "code",
   "execution_count": 32,
   "metadata": {},
   "outputs": [
    {
     "name": "stdout",
     "output_type": "stream",
     "text": [
      "Epoch 1/11\n",
      "6178/6189 [============================>.] - ETA: 0s - loss: 0.4879 - accuracy: 0.7744WARNING:tensorflow:Can save best model only with val_acc available, skipping.\n",
      "WARNING:tensorflow:Reduce LR on plateau conditioned on metric `val_acc` which is not available. Available metrics are: loss,accuracy,val_loss,val_accuracy,lr\n",
      "6189/6189 [==============================] - 25s 4ms/step - loss: 0.4879 - accuracy: 0.7744 - val_loss: 0.4621 - val_accuracy: 0.7940 - lr: 1.0000e-04\n",
      "Epoch 2/11\n",
      "6178/6189 [============================>.] - ETA: 0s - loss: 0.4518 - accuracy: 0.7971WARNING:tensorflow:Can save best model only with val_acc available, skipping.\n",
      "WARNING:tensorflow:Reduce LR on plateau conditioned on metric `val_acc` which is not available. Available metrics are: loss,accuracy,val_loss,val_accuracy,lr\n",
      "6189/6189 [==============================] - 26s 4ms/step - loss: 0.4519 - accuracy: 0.7971 - val_loss: 0.5287 - val_accuracy: 0.7452 - lr: 1.0000e-04\n",
      "Epoch 3/11\n",
      "6177/6189 [============================>.] - ETA: 0s - loss: 0.4348 - accuracy: 0.8060WARNING:tensorflow:Can save best model only with val_acc available, skipping.\n",
      "WARNING:tensorflow:Reduce LR on plateau conditioned on metric `val_acc` which is not available. Available metrics are: loss,accuracy,val_loss,val_accuracy,lr\n",
      "6189/6189 [==============================] - 25s 4ms/step - loss: 0.4347 - accuracy: 0.8061 - val_loss: 0.4454 - val_accuracy: 0.7970 - lr: 1.0000e-04\n",
      "Epoch 4/11\n",
      "6179/6189 [============================>.] - ETA: 0s - loss: 0.4237 - accuracy: 0.8123WARNING:tensorflow:Can save best model only with val_acc available, skipping.\n",
      "WARNING:tensorflow:Reduce LR on plateau conditioned on metric `val_acc` which is not available. Available metrics are: loss,accuracy,val_loss,val_accuracy,lr\n",
      "6189/6189 [==============================] - 25s 4ms/step - loss: 0.4238 - accuracy: 0.8123 - val_loss: 0.4436 - val_accuracy: 0.7953 - lr: 1.0000e-04\n",
      "Epoch 5/11\n",
      "6176/6189 [============================>.] - ETA: 0s - loss: 0.4147 - accuracy: 0.8171WARNING:tensorflow:Can save best model only with val_acc available, skipping.\n",
      "WARNING:tensorflow:Reduce LR on plateau conditioned on metric `val_acc` which is not available. Available metrics are: loss,accuracy,val_loss,val_accuracy,lr\n",
      "6189/6189 [==============================] - 25s 4ms/step - loss: 0.4146 - accuracy: 0.8171 - val_loss: 0.4201 - val_accuracy: 0.8153 - lr: 1.0000e-04\n",
      "Epoch 6/11\n",
      "6185/6189 [============================>.] - ETA: 0s - loss: 0.4062 - accuracy: 0.8206WARNING:tensorflow:Can save best model only with val_acc available, skipping.\n",
      "WARNING:tensorflow:Reduce LR on plateau conditioned on metric `val_acc` which is not available. Available metrics are: loss,accuracy,val_loss,val_accuracy,lr\n",
      "6189/6189 [==============================] - 26s 4ms/step - loss: 0.4062 - accuracy: 0.8206 - val_loss: 0.4272 - val_accuracy: 0.8109 - lr: 1.0000e-04\n",
      "Epoch 7/11\n",
      "6179/6189 [============================>.] - ETA: 0s - loss: 0.3990 - accuracy: 0.8241WARNING:tensorflow:Can save best model only with val_acc available, skipping.\n",
      "WARNING:tensorflow:Reduce LR on plateau conditioned on metric `val_acc` which is not available. Available metrics are: loss,accuracy,val_loss,val_accuracy,lr\n",
      "6189/6189 [==============================] - 31s 5ms/step - loss: 0.3990 - accuracy: 0.8240 - val_loss: 0.4338 - val_accuracy: 0.7999 - lr: 1.0000e-04\n",
      "Epoch 8/11\n",
      "6183/6189 [============================>.] - ETA: 0s - loss: 0.3911 - accuracy: 0.8288WARNING:tensorflow:Can save best model only with val_acc available, skipping.\n",
      "WARNING:tensorflow:Reduce LR on plateau conditioned on metric `val_acc` which is not available. Available metrics are: loss,accuracy,val_loss,val_accuracy,lr\n",
      "6189/6189 [==============================] - 32s 5ms/step - loss: 0.3911 - accuracy: 0.8288 - val_loss: 0.4380 - val_accuracy: 0.8108 - lr: 1.0000e-04\n",
      "Epoch 9/11\n",
      "6183/6189 [============================>.] - ETA: 0s - loss: 0.3843 - accuracy: 0.8311WARNING:tensorflow:Can save best model only with val_acc available, skipping.\n",
      "WARNING:tensorflow:Reduce LR on plateau conditioned on metric `val_acc` which is not available. Available metrics are: loss,accuracy,val_loss,val_accuracy,lr\n",
      "6189/6189 [==============================] - 29s 5ms/step - loss: 0.3844 - accuracy: 0.8310 - val_loss: 0.4207 - val_accuracy: 0.8148 - lr: 1.0000e-04\n",
      "Epoch 10/11\n",
      "6184/6189 [============================>.] - ETA: 0s - loss: 0.3775 - accuracy: 0.8359WARNING:tensorflow:Can save best model only with val_acc available, skipping.\n",
      "WARNING:tensorflow:Reduce LR on plateau conditioned on metric `val_acc` which is not available. Available metrics are: loss,accuracy,val_loss,val_accuracy,lr\n",
      "6189/6189 [==============================] - 28s 5ms/step - loss: 0.3774 - accuracy: 0.8359 - val_loss: 0.4793 - val_accuracy: 0.7961 - lr: 1.0000e-04\n",
      "Epoch 11/11\n",
      "6186/6189 [============================>.] - ETA: 0s - loss: 0.3709 - accuracy: 0.8384WARNING:tensorflow:Can save best model only with val_acc available, skipping.\n",
      "WARNING:tensorflow:Reduce LR on plateau conditioned on metric `val_acc` which is not available. Available metrics are: loss,accuracy,val_loss,val_accuracy,lr\n",
      "6189/6189 [==============================] - 27s 4ms/step - loss: 0.3709 - accuracy: 0.8384 - val_loss: 0.4155 - val_accuracy: 0.8227 - lr: 1.0000e-04\n"
     ]
    }
   ],
   "source": [
    "train_steps = np.ceil(len(y_train) / 32)\n",
    "val_steps = np.ceil(len(y_valid) / 32)\n",
    "filepath = \"checkpoint.h5\"\n",
    "checkpoint = ModelCheckpoint(filepath, monitor='val_acc', verbose=1,\n",
    "                             save_best_only=True, mode='max')  # Save Best Epoc\n",
    "\n",
    "reduce_lr = ReduceLROnPlateau(monitor='val_acc', factor=0.5, patience=2,\n",
    "                              verbose=1, mode='max', min_lr=0.00001)\n",
    "callbacks_list = [checkpoint, reduce_lr] \n",
    "\n",
    "history = modelo.fit_generator(X_y_train, steps_per_epoch=train_steps,\n",
    "                              validation_data=X_y_valid,\n",
    "                              validation_steps=val_steps,\n",
    "                              epochs=11,\n",
    "                              verbose=1,\n",
    "                              callbacks=callbacks_list)"
   ]
  },
  {
   "cell_type": "code",
   "execution_count": 34,
   "metadata": {},
   "outputs": [
    {
     "data": {
      "text/plain": [
       "{'loss': [0.4879157841205597,\n",
       "  0.45189493894577026,\n",
       "  0.4346991777420044,\n",
       "  0.423831045627594,\n",
       "  0.41463232040405273,\n",
       "  0.40621209144592285,\n",
       "  0.3989708721637726,\n",
       "  0.3910748362541199,\n",
       "  0.3843567669391632,\n",
       "  0.3774419128894806,\n",
       "  0.3709219992160797],\n",
       " 'accuracy': [0.7743813991546631,\n",
       "  0.7970760464668274,\n",
       "  0.806065022945404,\n",
       "  0.81229168176651,\n",
       "  0.8171043395996094,\n",
       "  0.8205888271331787,\n",
       "  0.8240379691123962,\n",
       "  0.8287748694419861,\n",
       "  0.8310221433639526,\n",
       "  0.835860013961792,\n",
       "  0.8384102582931519],\n",
       " 'val_loss': [0.4621477425098419,\n",
       "  0.5286567807197571,\n",
       "  0.44537198543548584,\n",
       "  0.44363877177238464,\n",
       "  0.42010754346847534,\n",
       "  0.42721083760261536,\n",
       "  0.4337749779224396,\n",
       "  0.43800219893455505,\n",
       "  0.4206755757331848,\n",
       "  0.47930610179901123,\n",
       "  0.4154549241065979],\n",
       " 'val_accuracy': [0.7939826250076294,\n",
       "  0.7452165484428406,\n",
       "  0.7969822287559509,\n",
       "  0.795255184173584,\n",
       "  0.8152979016304016,\n",
       "  0.8109349012374878,\n",
       "  0.7999363541603088,\n",
       "  0.8108440041542053,\n",
       "  0.8147525191307068,\n",
       "  0.7960732579231262,\n",
       "  0.8226605653762817],\n",
       " 'lr': [1e-04,\n",
       "  1e-04,\n",
       "  1e-04,\n",
       "  1e-04,\n",
       "  1e-04,\n",
       "  1e-04,\n",
       "  1e-04,\n",
       "  1e-04,\n",
       "  1e-04,\n",
       "  1e-04,\n",
       "  1e-04]}"
      ]
     },
     "execution_count": 34,
     "metadata": {},
     "output_type": "execute_result"
    }
   ],
   "source": [
    "history.history"
   ]
  },
  {
   "cell_type": "code",
   "execution_count": 35,
   "metadata": {},
   "outputs": [
    {
     "data": {
      "image/png": "[encoded data removed]",
      "text/plain": [
       "<Figure size 432x288 with 1 Axes>"
      ]
     },
     "metadata": {
      "needs_background": "light"
     },
     "output_type": "display_data"
    }
   ],
   "source": [
    "# Plot de accuracu entrenamiento validacion \n",
    "plt.plot(history.history['accuracy'])\n",
    "plt.plot(history.history['val_accuracy'])\n",
    "plt.title('Modelo de escatitud')\n",
    "plt.ylabel('excatitud')\n",
    "plt.xlabel('epocas')\n",
    "plt.legend(['train', 'val'], loc='best')\n",
    "plt.show()\n",
    "\n"
   ]
  },
  {
   "cell_type": "code",
   "execution_count": 37,
   "metadata": {},
   "outputs": [
    {
     "data": {
      "image/png": "[encoded data removed]",
      "text/plain": [
       "<Figure size 432x288 with 1 Axes>"
      ]
     },
     "metadata": {
      "needs_background": "light"
     },
     "output_type": "display_data"
    }
   ],
   "source": [
    "# Plot valores de perdida train y validation \n",
    "plt.plot(history.history['loss'])\n",
    "plt.plot(history.history['val_loss'])\n",
    "plt.title('Modelo perdida')\n",
    "plt.ylabel('perdida')\n",
    "plt.xlabel('epoca')\n",
    "plt.legend(['Train', 'Test'], loc='best')\n",
    "plt.show()"
   ]
  }
 ],
 "metadata": {
  "kernelspec": {
   "display_name": "Python 3",
   "language": "python",
   "name": "python3"
  },
  "language_info": {
   "codemirror_mode": {
    "name": "ipython",
    "version": 3
   },
   "file_extension": ".py",
   "mimetype": "text/x-python",
   "name": "python",
   "nbconvert_exporter": "python",
   "pygments_lexer": "ipython3",
   "version": "3.8.2"
  }
 },
 "nbformat": 4,
 "nbformat_minor": 4
}
