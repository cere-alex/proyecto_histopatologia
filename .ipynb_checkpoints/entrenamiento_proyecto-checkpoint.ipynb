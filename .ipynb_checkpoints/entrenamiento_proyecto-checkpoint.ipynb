{
 "cells": [
  {
   "cell_type": "markdown",
   "metadata": {},
   "source": [
    "# Identificacion de cancer metastasico en imagenes de exploraciones patologicas"
   ]
  },
  {
   "cell_type": "code",
   "execution_count": 1,
   "metadata": {},
   "outputs": [],
   "source": [
    "#!/usr/bin/env python3\n",
    "\n",
    "from tensorflow.keras.callbacks import ModelCheckpoint, ReduceLROnPlateau\n",
    "from tensorflow.keras.utils import plot_model, to_categorical\n",
    "from tensorflow.keras.optimizers import Adam\n",
    "from tensorflow.keras.layers import Conv2D\n",
    "from tensorflow.keras.layers import BatchNormalization\n",
    "from tensorflow.keras.layers import MaxPooling2D, Flatten, Dense\n",
    "from tensorflow.keras.models import Sequential\n",
    "from tensorflow.keras.preprocessing.image import ImageDataGenerator\n",
    "import sys\n",
    "from sklearn.model_selection import train_test_split\n",
    "import os\n",
    "import pandas as pd\n",
    "import matplotlib.pylab as plt\n",
    "import numpy as np\n",
    "import cv2\n"
   ]
  },
  {
   "cell_type": "markdown",
   "metadata": {},
   "source": [
    "Se crea una funcion con el modelo a usar"
   ]
  },
  {
   "cell_type": "code",
   "execution_count": 2,
   "metadata": {},
   "outputs": [],
   "source": [
    "\n",
    "def Histopatologia(ancho, alto, profundidad, clases):\n",
    "    \"\"\"\n",
    "    Modelo de deteccion de Histopatologia.\n",
    "\n",
    "    Se crea un posible modelo aplicanndo 2 convoluciones y al final\n",
    "    se realizara un flat para el cubo formado linearize\n",
    "    Se usa un derivado de la red LeNet5\n",
    "    \n",
    "    en la cual se observa dos capas convolucionales \n",
    "    \n",
    "    \"\"\"\n",
    "    model = Sequential()\n",
    "    chanDim = -1\n",
    "    # CONV 1\n",
    "    model.add(Conv2D(32, (3, 3), padding=\"same\", activation='relu',\n",
    "                     input_shape=(alto, ancho, profundidad)))\n",
    "    model.add(MaxPooling2D(pool_size=(2, 2)))\n",
    "\n",
    "    # (CONV 2)\n",
    "    model.add(Conv2D(64, (3, 3), padding=\"same\", activation=\"relu\"))\n",
    "    model.add(MaxPooling2D(pool_size=(2, 2)))\n",
    "\n",
    "    # aplanado de la imagen\n",
    "    model.add(Flatten())\n",
    "    model.add(Dense(256, activation=\"relu\"))\n",
    "    model.add(BatchNormalization())\n",
    "\n",
    "    # softmax classifier\n",
    "    model.add(Dense(clases, activation=\"softmax\"))\n",
    "    model.summary()\n",
    "\n",
    "    # return the constructed network architecture\n",
    "    return model\n"
   ]
  },
  {
   "cell_type": "markdown",
   "metadata": {},
   "source": [
    "En este proyecto se usara el dataset de train_label para el entrenamiento y la validacion"
   ]
  },
  {
   "cell_type": "code",
   "execution_count": 3,
   "metadata": {},
   "outputs": [
    {
     "data": {
      "text/html": [
       "<div>\n",
       "<style scoped>\n",
       "    .dataframe tbody tr th:only-of-type {\n",
       "        vertical-align: middle;\n",
       "    }\n",
       "\n",
       "    .dataframe tbody tr th {\n",
       "        vertical-align: top;\n",
       "    }\n",
       "\n",
       "    .dataframe thead th {\n",
       "        text-align: right;\n",
       "    }\n",
       "</style>\n",
       "<table border=\"1\" class=\"dataframe\">\n",
       "  <thead>\n",
       "    <tr style=\"text-align: right;\">\n",
       "      <th></th>\n",
       "      <th>id</th>\n",
       "      <th>label</th>\n",
       "    </tr>\n",
       "  </thead>\n",
       "  <tbody>\n",
       "    <tr>\n",
       "      <th>0</th>\n",
       "      <td>f38a6374c348f90b587e046aac6079959adf3835</td>\n",
       "      <td>0</td>\n",
       "    </tr>\n",
       "    <tr>\n",
       "      <th>1</th>\n",
       "      <td>755db6279dae599ebb4d39a9123cce439965282d</td>\n",
       "      <td>0</td>\n",
       "    </tr>\n",
       "    <tr>\n",
       "      <th>2</th>\n",
       "      <td>bc3f0c64fb968ff4a8bd33af6971ecae77c75e08</td>\n",
       "      <td>0</td>\n",
       "    </tr>\n",
       "    <tr>\n",
       "      <th>3</th>\n",
       "      <td>068aba587a4950175d04c680d38943fd488d6a9d</td>\n",
       "      <td>0</td>\n",
       "    </tr>\n",
       "    <tr>\n",
       "      <th>4</th>\n",
       "      <td>acfe80838488fae3c89bd21ade75be5c34e66be7</td>\n",
       "      <td>0</td>\n",
       "    </tr>\n",
       "    <tr>\n",
       "      <th>...</th>\n",
       "      <td>...</td>\n",
       "      <td>...</td>\n",
       "    </tr>\n",
       "    <tr>\n",
       "      <th>220018</th>\n",
       "      <td>8a25b1632a1859d7b757e912ca673385b64e1b1d</td>\n",
       "      <td>1</td>\n",
       "    </tr>\n",
       "    <tr>\n",
       "      <th>220019</th>\n",
       "      <td>3e24dd48c3a419f4d669cac3cf71e777ba100541</td>\n",
       "      <td>1</td>\n",
       "    </tr>\n",
       "    <tr>\n",
       "      <th>220020</th>\n",
       "      <td>309210db7f424edbc22b2d13bf2fa27518b18f5c</td>\n",
       "      <td>1</td>\n",
       "    </tr>\n",
       "    <tr>\n",
       "      <th>220021</th>\n",
       "      <td>d4b854fe38b07fe2831ad73892b3cec877689576</td>\n",
       "      <td>1</td>\n",
       "    </tr>\n",
       "    <tr>\n",
       "      <th>220022</th>\n",
       "      <td>a81f84895ddcd522302ddf34be02eb1b3e5af1cb</td>\n",
       "      <td>1</td>\n",
       "    </tr>\n",
       "  </tbody>\n",
       "</table>\n",
       "<p>220023 rows × 2 columns</p>\n",
       "</div>"
      ],
      "text/plain": [
       "                                              id  label\n",
       "0       f38a6374c348f90b587e046aac6079959adf3835      0\n",
       "1       755db6279dae599ebb4d39a9123cce439965282d      0\n",
       "2       bc3f0c64fb968ff4a8bd33af6971ecae77c75e08      0\n",
       "3       068aba587a4950175d04c680d38943fd488d6a9d      0\n",
       "4       acfe80838488fae3c89bd21ade75be5c34e66be7      0\n",
       "...                                          ...    ...\n",
       "220018  8a25b1632a1859d7b757e912ca673385b64e1b1d      1\n",
       "220019  3e24dd48c3a419f4d669cac3cf71e777ba100541      1\n",
       "220020  309210db7f424edbc22b2d13bf2fa27518b18f5c      1\n",
       "220021  d4b854fe38b07fe2831ad73892b3cec877689576      1\n",
       "220022  a81f84895ddcd522302ddf34be02eb1b3e5af1cb      1\n",
       "\n",
       "[220023 rows x 2 columns]"
      ]
     },
     "execution_count": 3,
     "metadata": {},
     "output_type": "execute_result"
    }
   ],
   "source": [
    "\n",
    "df = pd.read_csv('./train_labels.csv')\n",
    "\"\"\"\n",
    "Leyendo los avances en Kaggle se observo que estas dos imagenes\n",
    "causan problemas en el entrenamiento\n",
    "\n",
    "\"\"\"\n",
    "df = df[df['id'] != 'dd6dfed324f9fcb6f93f46f32fc800f2ec196be2'] \n",
    "df = df[df['id'] != '9369c7278ec8bcc6c880d99194de09fc2bd4efbe']\n",
    "\n",
    "df_0 = df[df['label'] == 0]\n",
    "df_1 = df[df['label'] == 1]\n",
    "\n",
    "df_train = pd.concat([df_0, df_1], axis=0).reset_index(drop=True)\n",
    "\n",
    "df_train"
   ]
  },
  {
   "cell_type": "code",
   "execution_count": 4,
   "metadata": {},
   "outputs": [],
   "source": [
    "\"\"\"\n",
    "Las imagenes de train se dividiran en grupo de entranamiento y validadcion.\n",
    "\"\"\"\n",
    "df_train, df_valid = train_test_split(df_train,\n",
    "                                      train_size=0.9,\n",
    "                                      random_state=0)\n",
    "\n",
    "y_train = df_train['label'].values\n",
    "x_train_id = df_train['id'].values\n",
    "y_valid = df_valid['label'].values\n",
    "x_valid_id = df_valid['id'].values"
   ]
  },
  {
   "cell_type": "markdown",
   "metadata": {},
   "source": [
    "Se crea un archivo con extension '.npy' donde se guarda las matrices de las imagenes de entrenamiento y validacion"
   ]
  },
  {
   "cell_type": "code",
   "execution_count": 5,
   "metadata": {},
   "outputs": [
    {
     "name": "stdout",
     "output_type": "stream",
     "text": [
      "Se cargo el archivo X_train.npy\n",
      "Se cargo el archivo X_valid.npy\n"
     ]
    }
   ],
   "source": [
    "\"\"\"\n",
    "Se cortara la imagen central de 32x32 para el entranamiento\n",
    "\"\"\"\n",
    "# se guarda el archivo x_train y si existe lo carga\n",
    "\n",
    "if os.path.exists('X_train.npy'):\n",
    "    X_train = np.load('X_train.npy')\n",
    "    print(\"Se cargo el archivo X_train.npy\")\n",
    "else:\n",
    "    X_train = []\n",
    "    for j, i in enumerate(x_train_id):\n",
    "        sys.stdout.write(\"lectura de df_train: %d%%\\r\" % (j*100//len(x_train_id)))\n",
    "        sys.stdout.flush()\n",
    "        a = cv2.imread('./train/{}.tif'.format(i))  # se lee las imagenes\n",
    "        b = a[31:31+32, 31:31+32]  # se corta la imagen a 32 x 32 x 3\n",
    "        X_train.append(b)\n",
    "    print(\"lectura de df_train: %d%%   \\r\" % (j*100//len(x_train_id)+1))\n",
    "    X_train = np.array(X_train)\n",
    "    np.save('X_train.npy', X_train)\n",
    "\n",
    "# se guarda el archivo x_valid y si existe lo carga\n",
    "    \n",
    "if os.path.exists('X_valid.npy'):\n",
    "    X_valid = np.load('X_valid.npy')\n",
    "    print(\"Se cargo el archivo X_valid.npy\")\n",
    "else:\n",
    "    X_valid = []\n",
    "    for j, i in enumerate(x_valid_id):\n",
    "        sys.stdout.write(\"lectura de df_valid: %d%%\\r\" % (j*100//len(x_valid_id)))\n",
    "        sys.stdout.flush()\n",
    "        a = cv2.imread('./train/{}.tif'.format(i))  # se lee las imagenes\n",
    "        b = a[31:31+32, 31:31+32]  # se corta la imagen a 32 x 32 x 3\n",
    "        X_valid.append(b)\n",
    "    print(\"lectura de df_valid: %d%%   \\r\" % (j*100//len(x_valid_id)+1))\n",
    "    X_valid = np.array(X_valid)\n",
    "    np.save('X_valid.npy', X_valid)"
   ]
  },
  {
   "cell_type": "markdown",
   "metadata": {},
   "source": [
    "Como keras solo usa datos de  categoria se tiene q convertir los labels 0 , 1 a [1,0] , [0,1]"
   ]
  },
  {
   "cell_type": "code",
   "execution_count": 6,
   "metadata": {},
   "outputs": [
    {
     "data": {
      "text/plain": [
       "<keras_preprocessing.image.numpy_array_iterator.NumpyArrayIterator at 0x7f47144ae070>"
      ]
     },
     "execution_count": 6,
     "metadata": {},
     "output_type": "execute_result"
    }
   ],
   "source": [
    "\"\"\"\n",
    "SE ajustara los datos, y_train a categorical\n",
    "\n",
    "\"\"\"\n",
    "\n",
    "y_train = to_categorical(y_train, num_classes=2)\n",
    "y_valid = to_categorical(y_valid, num_classes=2)\n",
    "\n",
    "\"\"\"\n",
    "como las imagens usan valores de 0 a 255,se normaliza con una funcion\n",
    "proveniente de keras llamada 'ImageDataGenerator'y se austa los datos \n",
    "de x_train y x_valid a esta \n",
    "\"\"\"\n",
    "datagen = ImageDataGenerator(rescale=1.0/255)\n",
    "datagen.fit(X_train)\n",
    "X_y_train = datagen.flow(X_train, y_train, batch_size=32)\n",
    "X_y_valid = datagen.flow(X_valid, y_valid, batch_size=32)\n",
    "X_y_train"
   ]
  },
  {
   "cell_type": "markdown",
   "metadata": {},
   "source": [
    "Se llama el modelo para compilarlo "
   ]
  },
  {
   "cell_type": "code",
   "execution_count": 7,
   "metadata": {},
   "outputs": [
    {
     "name": "stdout",
     "output_type": "stream",
     "text": [
      "Model: \"sequential\"\n",
      "_________________________________________________________________\n",
      "Layer (type)                 Output Shape              Param #   \n",
      "=================================================================\n",
      "conv2d (Conv2D)              (None, 32, 32, 32)        896       \n",
      "_________________________________________________________________\n",
      "max_pooling2d (MaxPooling2D) (None, 16, 16, 32)        0         \n",
      "_________________________________________________________________\n",
      "conv2d_1 (Conv2D)            (None, 16, 16, 64)        18496     \n",
      "_________________________________________________________________\n",
      "max_pooling2d_1 (MaxPooling2 (None, 8, 8, 64)          0         \n",
      "_________________________________________________________________\n",
      "flatten (Flatten)            (None, 4096)              0         \n",
      "_________________________________________________________________\n",
      "dense (Dense)                (None, 256)               1048832   \n",
      "_________________________________________________________________\n",
      "batch_normalization (BatchNo (None, 256)               1024      \n",
      "_________________________________________________________________\n",
      "dense_1 (Dense)              (None, 2)                 514       \n",
      "=================================================================\n",
      "Total params: 1,069,762\n",
      "Trainable params: 1,069,250\n",
      "Non-trainable params: 512\n",
      "_________________________________________________________________\n"
     ]
    },
    {
     "data": {
      "image/png": "[encoded data removed]",
      "text/plain": [
       "<IPython.core.display.Image object>"
      ]
     },
     "execution_count": 7,
     "metadata": {},
     "output_type": "execute_result"
    }
   ],
   "source": [
    "\n",
    "modelo = Histopatologia(32, 32, 3, 2)\n",
    "\n",
    "modelo.compile(optimizer=Adam(lr=0.0001), # el optimizador usado es el algoritmo Adam \n",
    "              loss='binary_crossentropy', # como son dos clases de salida se usa binary crossentropy \n",
    "              metrics=['accuracy']) # la metria a usar es la exactitud \n",
    "plot_model(modelo, to_file='model.png') # imprime como un lista de los algoritmos usados en el modelo \n",
    "\n"
   ]
  },
  {
   "cell_type": "markdown",
   "metadata": {},
   "source": [
    "En la siguiente parte se entrena el modelo junto con otros detalles, \n",
    "la funcion ModelCheckpoint guarda el mejor modelo de cada epoca "
   ]
  },
  {
   "cell_type": "code",
   "execution_count": 8,
   "metadata": {},
   "outputs": [
    {
     "name": "stdout",
     "output_type": "stream",
     "text": [
      "Epoch 1/20\n",
      "6189/6189 [==============================] - ETA: 0s - loss: 0.4882 - accuracy: 0.7743\n",
      "Epoch 00001: val_accuracy improved from -inf to 0.78367, saving model to checkpoint.h5\n",
      "6189/6189 [==============================] - 25s 4ms/step - loss: 0.4882 - accuracy: 0.7743 - val_loss: 0.4775 - val_accuracy: 0.7837 - lr: 1.0000e-04\n",
      "Epoch 2/20\n",
      "6177/6189 [============================>.] - ETA: 0s - loss: 0.4534 - accuracy: 0.7950\n",
      "Epoch 00002: val_accuracy improved from 0.78367 to 0.80280, saving model to checkpoint.h5\n",
      "6189/6189 [==============================] - 24s 4ms/step - loss: 0.4535 - accuracy: 0.7950 - val_loss: 0.4379 - val_accuracy: 0.8028 - lr: 1.0000e-04\n",
      "Epoch 3/20\n",
      "6182/6189 [============================>.] - ETA: 0s - loss: 0.4360 - accuracy: 0.8050\n",
      "Epoch 00003: val_accuracy did not improve from 0.80280\n",
      "6189/6189 [==============================] - 25s 4ms/step - loss: 0.4360 - accuracy: 0.8050 - val_loss: 0.4403 - val_accuracy: 0.8001 - lr: 1.0000e-04\n",
      "Epoch 4/20\n",
      "6181/6189 [============================>.] - ETA: 0s - loss: 0.4250 - accuracy: 0.8115\n",
      "Epoch 00004: val_accuracy improved from 0.80280 to 0.80953, saving model to checkpoint.h5\n",
      "6189/6189 [==============================] - 28s 5ms/step - loss: 0.4250 - accuracy: 0.8115 - val_loss: 0.4456 - val_accuracy: 0.8095 - lr: 1.0000e-04\n",
      "Epoch 5/20\n",
      "6184/6189 [============================>.] - ETA: 0s - loss: 0.4165 - accuracy: 0.8154\n",
      "Epoch 00005: val_accuracy did not improve from 0.80953\n",
      "6189/6189 [==============================] - 40s 6ms/step - loss: 0.4165 - accuracy: 0.8153 - val_loss: 0.4771 - val_accuracy: 0.7781 - lr: 1.0000e-04\n",
      "Epoch 6/20\n",
      "6188/6189 [============================>.] - ETA: 0s - loss: 0.4081 - accuracy: 0.8190\n",
      "Epoch 00006: val_accuracy did not improve from 0.80953\n",
      "\n",
      "Epoch 00006: ReduceLROnPlateau reducing learning rate to 4.999999873689376e-05.\n",
      "6189/6189 [==============================] - 40s 6ms/step - loss: 0.4081 - accuracy: 0.8190 - val_loss: 0.5104 - val_accuracy: 0.7611 - lr: 1.0000e-04\n",
      "Epoch 7/20\n",
      "6188/6189 [============================>.] - ETA: 0s - loss: 0.3907 - accuracy: 0.8280\n",
      "Epoch 00007: val_accuracy improved from 0.80953 to 0.82743, saving model to checkpoint.h5\n",
      "6189/6189 [==============================] - 40s 6ms/step - loss: 0.3907 - accuracy: 0.8280 - val_loss: 0.4005 - val_accuracy: 0.8274 - lr: 5.0000e-05\n",
      "Epoch 8/20\n",
      "6188/6189 [============================>.] - ETA: 0s - loss: 0.3847 - accuracy: 0.8314\n",
      "Epoch 00008: val_accuracy did not improve from 0.82743\n",
      "6189/6189 [==============================] - 40s 6ms/step - loss: 0.3847 - accuracy: 0.8313 - val_loss: 0.3997 - val_accuracy: 0.8271 - lr: 5.0000e-05\n",
      "Epoch 9/20\n",
      "6185/6189 [============================>.] - ETA: 0s - loss: 0.3782 - accuracy: 0.8344\n",
      "Epoch 00009: val_accuracy did not improve from 0.82743\n",
      "\n",
      "Epoch 00009: ReduceLROnPlateau reducing learning rate to 2.499999936844688e-05.\n",
      "6189/6189 [==============================] - 40s 6ms/step - loss: 0.3782 - accuracy: 0.8343 - val_loss: 0.4213 - val_accuracy: 0.8206 - lr: 5.0000e-05\n",
      "Epoch 10/20\n",
      "6183/6189 [============================>.] - ETA: 0s - loss: 0.3656 - accuracy: 0.8404\n",
      "Epoch 00010: val_accuracy did not improve from 0.82743\n",
      "6189/6189 [==============================] - 40s 6ms/step - loss: 0.3657 - accuracy: 0.8403 - val_loss: 0.3984 - val_accuracy: 0.8261 - lr: 2.5000e-05\n",
      "Epoch 11/20\n",
      "6183/6189 [============================>.] - ETA: 0s - loss: 0.3607 - accuracy: 0.8428\n",
      "Epoch 00011: val_accuracy improved from 0.82743 to 0.83152, saving model to checkpoint.h5\n",
      "6189/6189 [==============================] - 40s 6ms/step - loss: 0.3607 - accuracy: 0.8428 - val_loss: 0.3964 - val_accuracy: 0.8315 - lr: 2.5000e-05\n",
      "Epoch 12/20\n",
      "6180/6189 [============================>.] - ETA: 0s - loss: 0.3574 - accuracy: 0.8448\n",
      "Epoch 00012: val_accuracy did not improve from 0.83152\n",
      "6189/6189 [==============================] - 40s 6ms/step - loss: 0.3574 - accuracy: 0.8448 - val_loss: 0.4132 - val_accuracy: 0.8216 - lr: 2.5000e-05\n",
      "Epoch 13/20\n",
      "6180/6189 [============================>.] - ETA: 0s - loss: 0.3525 - accuracy: 0.8472\n",
      "Epoch 00013: val_accuracy did not improve from 0.83152\n",
      "\n",
      "Epoch 00013: ReduceLROnPlateau reducing learning rate to 1.249999968422344e-05.\n",
      "6189/6189 [==============================] - 26s 4ms/step - loss: 0.3525 - accuracy: 0.8472 - val_loss: 0.4319 - val_accuracy: 0.8075 - lr: 2.5000e-05\n",
      "Epoch 14/20\n",
      "6181/6189 [============================>.] - ETA: 0s - loss: 0.3451 - accuracy: 0.8505\n",
      "Epoch 00014: val_accuracy did not improve from 0.83152\n",
      "6189/6189 [==============================] - 25s 4ms/step - loss: 0.3450 - accuracy: 0.8505 - val_loss: 0.4071 - val_accuracy: 0.8214 - lr: 1.2500e-05\n",
      "Epoch 15/20\n",
      "6188/6189 [============================>.] - ETA: 0s - loss: 0.3417 - accuracy: 0.8527\n",
      "Epoch 00015: val_accuracy did not improve from 0.83152\n",
      "\n",
      "Epoch 00015: ReduceLROnPlateau reducing learning rate to 1e-05.\n",
      "6189/6189 [==============================] - 25s 4ms/step - loss: 0.3417 - accuracy: 0.8528 - val_loss: 0.3964 - val_accuracy: 0.8300 - lr: 1.2500e-05\n",
      "Epoch 16/20\n",
      "6180/6189 [============================>.] - ETA: 0s - loss: 0.3381 - accuracy: 0.8540\n",
      "Epoch 00016: val_accuracy improved from 0.83152 to 0.83470, saving model to checkpoint.h5\n",
      "6189/6189 [==============================] - 31s 5ms/step - loss: 0.3381 - accuracy: 0.8540 - val_loss: 0.3916 - val_accuracy: 0.8347 - lr: 1.0000e-05\n",
      "Epoch 17/20\n",
      "6181/6189 [============================>.] - ETA: 0s - loss: 0.3366 - accuracy: 0.8548\n",
      "Epoch 00017: val_accuracy did not improve from 0.83470\n",
      "6189/6189 [==============================] - 28s 4ms/step - loss: 0.3367 - accuracy: 0.8547 - val_loss: 0.3915 - val_accuracy: 0.8298 - lr: 1.0000e-05\n",
      "Epoch 18/20\n",
      "6188/6189 [============================>.] - ETA: 0s - loss: 0.3355 - accuracy: 0.8552\n",
      "Epoch 00018: val_accuracy did not improve from 0.83470\n",
      "6189/6189 [==============================] - 27s 4ms/step - loss: 0.3355 - accuracy: 0.8552 - val_loss: 0.3896 - val_accuracy: 0.8331 - lr: 1.0000e-05\n",
      "Epoch 19/20\n",
      "6177/6189 [============================>.] - ETA: 0s - loss: 0.3326 - accuracy: 0.8578\n",
      "Epoch 00019: val_accuracy did not improve from 0.83470\n",
      "6189/6189 [==============================] - 26s 4ms/step - loss: 0.3327 - accuracy: 0.8578 - val_loss: 0.3894 - val_accuracy: 0.8338 - lr: 1.0000e-05\n",
      "Epoch 20/20\n",
      "6180/6189 [============================>.] - ETA: 0s - loss: 0.3312 - accuracy: 0.8578\n",
      "Epoch 00020: val_accuracy did not improve from 0.83470\n",
      "6189/6189 [==============================] - 26s 4ms/step - loss: 0.3311 - accuracy: 0.8578 - val_loss: 0.3919 - val_accuracy: 0.8332 - lr: 1.0000e-05\n"
     ]
    }
   ],
   "source": [
    "train_steps = np.ceil(len(y_train) / 32)\n",
    "val_steps = np.ceil(len(y_valid) / 32)\n",
    "filepath = \"checkpoint.h5\"\n",
    "checkpoint = ModelCheckpoint(filepath, monitor='val_accuracy', verbose=1,\n",
    "                             save_best_only=True, mode='max')  # Save Best Epoc\n",
    "\n",
    "reduce_lr = ReduceLROnPlateau(monitor='val_accuracy', factor=0.5, patience=2,\n",
    "                              verbose=1, mode='max', min_lr=0.00001)\n",
    "callbacks_list = [checkpoint, reduce_lr] \n",
    "\n",
    "history = modelo.fit(X_y_train, steps_per_epoch=train_steps,\n",
    "                              validation_data=X_y_valid,\n",
    "                              validation_steps=val_steps,\n",
    "                              epochs=20,\n",
    "                              verbose=1,\n",
    "                              callbacks=callbacks_list)"
   ]
  },
  {
   "cell_type": "code",
   "execution_count": 12,
   "metadata": {},
   "outputs": [
    {
     "data": {
      "text/plain": [
       "[0.4882214367389679,\n",
       " 0.45349496603012085,\n",
       " 0.4360378384590149,\n",
       " 0.42498674988746643,\n",
       " 0.4165242910385132,\n",
       " 0.4081287682056427,\n",
       " 0.39069896936416626,\n",
       " 0.38472115993499756,\n",
       " 0.3782289922237396,\n",
       " 0.3656954765319824,\n",
       " 0.36072981357574463,\n",
       " 0.3573613166809082,\n",
       " 0.35248222947120667,\n",
       " 0.34504231810569763,\n",
       " 0.34165507555007935,\n",
       " 0.33812689781188965,\n",
       " 0.3366658091545105,\n",
       " 0.3355262279510498,\n",
       " 0.33265963196754456,\n",
       " 0.33111900091171265]"
      ]
     },
     "execution_count": 12,
     "metadata": {},
     "output_type": "execute_result"
    }
   ],
   "source": [
    "history.history['loss']"
   ]
  },
  {
   "cell_type": "code",
   "execution_count": 13,
   "metadata": {},
   "outputs": [
    {
     "data": {
      "image/png": "[encoded data removed]",
      "text/plain": [
       "<Figure size 432x288 with 1 Axes>"
      ]
     },
     "metadata": {
      "needs_background": "light"
     },
     "output_type": "display_data"
    }
   ],
   "source": [
    "# Plot de accuracu entrenamiento validacion \n",
    "plt.plot(history.history['accuracy'])\n",
    "plt.plot(history.history['val_accuracy'])\n",
    "plt.title('Modelo de escatitud')\n",
    "plt.ylabel('excatitud')\n",
    "plt.xlabel('epocas')\n",
    "plt.legend(['train', 'val'], loc='best')\n",
    "plt.show()\n",
    "\n"
   ]
  },
  {
   "cell_type": "code",
   "execution_count": 14,
   "metadata": {},
   "outputs": [
    {
     "data": {
      "image/png": "[encoded data removed]",
      "text/plain": [
       "<Figure size 432x288 with 1 Axes>"
      ]
     },
     "metadata": {
      "needs_background": "light"
     },
     "output_type": "display_data"
    }
   ],
   "source": [
    "# Plot valores de perdida train y validation \n",
    "plt.plot(history.history['loss'])\n",
    "plt.plot(history.history['val_loss'])\n",
    "plt.title('Modelo perdida')\n",
    "plt.ylabel('perdida')\n",
    "plt.xlabel('epoca')\n",
    "plt.legend(['Train', 'Test'], loc='best')\n",
    "plt.show()"
   ]
  }
 ],
 "metadata": {
  "kernelspec": {
   "display_name": "Python 3",
   "language": "python",
   "name": "python3"
  },
  "language_info": {
   "codemirror_mode": {
    "name": "ipython",
    "version": 3
   },
   "file_extension": ".py",
   "mimetype": "text/x-python",
   "name": "python",
   "nbconvert_exporter": "python",
   "pygments_lexer": "ipython3",
   "version": "3.8.2"
  }
 },
 "nbformat": 4,
 "nbformat_minor": 4
}
